{
 "metadata": {
  "language_info": {
   "codemirror_mode": {
    "name": "ipython",
    "version": 3
   },
   "file_extension": ".py",
   "mimetype": "text/x-python",
   "name": "python",
   "nbconvert_exporter": "python",
   "pygments_lexer": "ipython3",
   "version": "3.8.5-final"
  },
  "orig_nbformat": 2,
  "kernelspec": {
   "name": "hackathon",
   "display_name": "HACKATHON"
  }
 },
 "nbformat": 4,
 "nbformat_minor": 2,
 "cells": [
  {
   "cell_type": "code",
   "execution_count": 1,
   "metadata": {},
   "outputs": [
    {
     "output_type": "stream",
     "name": "stdout",
     "text": [
      "alembic==1.4.3\nappdirs==1.4.4\nastroid==2.4.2\nBabel==2.8.0\nbackcall==0.2.0\nbcrypt==3.2.0\nblinker==1.4\nBrlapi==0.7.0\ncertifi==2019.11.28\ncffi==1.14.3\nchardet==3.0.4\nchrome-gnome-shell==0.0.0\nclick==7.1.2\ncommand-not-found==0.3\ncryptography==2.8\ncupshelpers==1.0\ndbus-python==1.2.16\ndecorator==4.4.2\ndefer==1.0.6\ndistlib==0.3.1\ndistro==1.4.0\ndistro-info===0.23ubuntu1\ndnspython==2.0.0\nemail-validator==1.1.1\nentrypoints==0.3\nfilelock==3.0.12\nFlask==1.0.2\nFlask-BabelEx==0.9.4\nFlask-Compress==1.4.0\nFlask-Gravatar==0.5.0\nFlask-Login==0.4.1\nFlask-Mail==0.9.1\nFlask-Migrate==2.4.0\nFlask-Paranoid==0.2.0\nFlask-Principal==0.4.0\nFlask-Security-Too==3.4.4\nFlask-SQLAlchemy==2.4.1\nFlask-WTF==0.14.3\nhidpidaemon==18.4.6\nhttplib2==0.14.0\nidna==2.8\nipykernel==5.3.4\nipython==7.18.1\nipython-genutils==0.2.0\nisort==5.6.4\nitsdangerous==1.1.0\njedi==0.17.2\nJinja2==2.11.2\njupyter-client==6.1.7\njupyter-core==4.6.3\nkernelstub==3.1.4\nkeyring==18.0.1\nlanguage-selector==0.1\nlaunchpadlib==1.10.13\nlazr.restfulclient==0.14.2\nlazr.uri==1.0.3\nlazy-object-proxy==1.4.3\nldap3==2.8.1\nlouis==3.12.0\nmacaroonbakery==1.3.1\nMako==1.1.3\nMarkupSafe==1.1.1\nmccabe==0.6.1\nnetifaces==0.10.4\nnumpy==1.19.2\noauthlib==3.1.0\npandas==1.1.3\nparamiko==2.7.2\nparso==0.7.1\npasslib==1.7.2\npexpect==4.8.0\npgadmin4==4.23\npickleshare==0.7.5\npop-transition==1.0.1\nprompt-toolkit==3.0.8\nprotobuf==3.6.1\npsutil==5.7.2\npsycopg2-binary==2.8.6\nptyprocess==0.6.0\npyasn1==0.4.8\npycairo==1.16.2\npycparser==2.20\npycups==1.9.73\npydbus==0.6.0\npyflatpak==0.4.0\nPygments==2.7.1\nPyGObject==3.36.0\nPyJWT==1.7.1\npylint==2.6.0\npymacaroons==0.13.0\nPyNaCl==1.3.0\npyRFC3339==1.1\npython-apt===2.1.2pop0-1587756471-20.04-cd2988e\npython-dateutil==2.8.1\npython-debian===0.1.36ubuntu1\npython-editor==1.0.4\npython-xlib==0.23\npytz==2018.9\npyxdg==0.26\nPyYAML==5.3.1\npyzmq==19.0.2\nrepoman==1.2.2\nrequests==2.22.0\nrequests-unixsocket==0.2.0\nscreen-resolution-extra==0.0.0\nSecretStorage==2.3.1\nsessioninstaller==0.0.0\nsimplejson==3.16.0\nsix==1.14.0\nspeaklater==1.3\nSQLAlchemy==1.3.20\nsqlparse==0.2.4\nsshtunnel==0.1.5\nsystemd-python==234\ntoml==0.10.1\ntornado==6.0.4\ntraitlets==5.0.4\nubuntu-advantage-tools==20.3\nubuntu-drivers-common==0.0.0\nufw==0.36\nurllib3==1.25.8\nvirtualenv==20.0.35\nwadllib==1.3.3\nwcwidth==0.2.5\nWerkzeug==1.0.1\nwrapt==1.12.1\nWTForms==2.2.1\nxkit==0.0.0\n"
     ]
    }
   ],
   "source": [
    "!pip3 freeze"
   ]
  },
  {
   "cell_type": "code",
   "execution_count": 2,
   "metadata": {},
   "outputs": [
    {
     "output_type": "stream",
     "name": "stdout",
     "text": [
      "Collecting dask\n",
      "  Using cached dask-2.30.0-py3-none-any.whl (848 kB)\n",
      "Processing /home/abraxas/.cache/pip/wheels/13/90/db/290ab3a34f2ef0b5a0f89235dc2d40fea83e77de84ed2dc05c/PyYAML-5.3.1-cp38-cp38-linux_x86_64.whl\n",
      "Installing collected packages: pyyaml, dask\n",
      "Successfully installed dask-2.30.0 pyyaml-5.3.1\n"
     ]
    }
   ],
   "source": [
    "!pip3 install dask"
   ]
  },
  {
   "cell_type": "code",
   "execution_count": 4,
   "metadata": {},
   "outputs": [
    {
     "output_type": "stream",
     "name": "stdout",
     "text": [
      "Requirement already up-to-date: dask in /home/abraxas/venv/HACKATHON/lib/python3.8/site-packages (2.30.0)\n",
      "Collecting distributed\n",
      "  Using cached distributed-2.30.0-py3-none-any.whl (656 kB)\n",
      "Requirement already satisfied, skipping upgrade: pyyaml in /home/abraxas/venv/HACKATHON/lib/python3.8/site-packages (from dask) (5.3.1)\n",
      "Collecting toolz>=0.8.2\n",
      "  Using cached toolz-0.11.1-py3-none-any.whl (55 kB)\n",
      "Processing /home/abraxas/.cache/pip/wheels/91/cf/b0/0c9998060b55ca80ea7a50a8639c3bdc6ba886eeff014bc9ac/psutil-5.7.2-cp38-cp38-linux_x86_64.whl\n",
      "Requirement already satisfied, skipping upgrade: setuptools in /home/abraxas/venv/HACKATHON/lib/python3.8/site-packages (from distributed) (50.3.1)\n",
      "Collecting click>=6.6\n",
      "  Using cached click-7.1.2-py2.py3-none-any.whl (82 kB)\n",
      "Collecting msgpack>=0.6.0\n",
      "  Using cached msgpack-1.0.0-cp38-cp38-manylinux1_x86_64.whl (303 kB)\n",
      "Collecting tblib>=1.6.0\n",
      "  Using cached tblib-1.7.0-py2.py3-none-any.whl (12 kB)\n",
      "Requirement already satisfied, skipping upgrade: tornado>=6.0.3; python_version >= \"3.8\" in /home/abraxas/venv/HACKATHON/lib/python3.8/site-packages (from distributed) (6.0.4)\n",
      "Collecting zict>=0.1.3\n",
      "  Using cached zict-2.0.0-py3-none-any.whl (10 kB)\n",
      "Collecting sortedcontainers!=2.0.0,!=2.0.1\n",
      "  Using cached sortedcontainers-2.2.2-py2.py3-none-any.whl (29 kB)\n",
      "Collecting cloudpickle>=1.5.0\n",
      "  Using cached cloudpickle-1.6.0-py3-none-any.whl (23 kB)\n",
      "Collecting heapdict\n",
      "  Using cached HeapDict-1.0.1-py3-none-any.whl (3.9 kB)\n",
      "Installing collected packages: toolz, psutil, click, msgpack, tblib, heapdict, zict, sortedcontainers, cloudpickle, distributed\n",
      "Successfully installed click-7.1.2 cloudpickle-1.6.0 distributed-2.30.0 heapdict-1.0.1 msgpack-1.0.0 psutil-5.7.2 sortedcontainers-2.2.2 tblib-1.7.0 toolz-0.11.1 zict-2.0.0\n"
     ]
    }
   ],
   "source": [
    "!python -m pip install dask distributed --upgrade"
   ]
  },
  {
   "cell_type": "code",
   "execution_count": 6,
   "metadata": {},
   "outputs": [
    {
     "output_type": "stream",
     "name": "stdout",
     "text": [
      "Requirement already satisfied: dask[complete] in /home/abraxas/venv/HACKATHON/lib/python3.8/site-packages (2.30.0)\n",
      "Requirement already satisfied: pyyaml in /home/abraxas/venv/HACKATHON/lib/python3.8/site-packages (from dask[complete]) (5.3.1)\n",
      "Collecting fsspec>=0.6.0; extra == \"complete\"\n",
      "  Using cached fsspec-0.8.4-py3-none-any.whl (91 kB)\n",
      "Collecting partd>=0.3.10; extra == \"complete\"\n",
      "  Using cached partd-1.1.0-py3-none-any.whl (19 kB)\n",
      "Requirement already satisfied: distributed>=2.0; extra == \"complete\" in /home/abraxas/venv/HACKATHON/lib/python3.8/site-packages (from dask[complete]) (2.30.0)\n",
      "Requirement already satisfied: numpy>=1.13.0; extra == \"complete\" in /home/abraxas/venv/HACKATHON/lib/python3.8/site-packages (from dask[complete]) (1.19.2)\n",
      "Requirement already satisfied: pandas>=0.23.0; extra == \"complete\" in /home/abraxas/venv/HACKATHON/lib/python3.8/site-packages (from dask[complete]) (1.1.3)\n",
      "Requirement already satisfied: toolz>=0.8.2; extra == \"complete\" in /home/abraxas/venv/HACKATHON/lib/python3.8/site-packages (from dask[complete]) (0.11.1)\n",
      "Processing /home/abraxas/.cache/pip/wheels/6d/9f/59/95f17da00a0d69835aea2fa7feb4a65ff05cd117f4b7bd12e0/bokeh-2.2.2-py3-none-any.whl\n",
      "Requirement already satisfied: cloudpickle>=0.2.2; extra == \"complete\" in /home/abraxas/venv/HACKATHON/lib/python3.8/site-packages (from dask[complete]) (1.6.0)\n",
      "Processing /home/abraxas/.cache/pip/wheels/78/25/55/fd7749af1f37730049bf1c0c0f4efd755c4ab1399f29578436/locket-0.2.0-py3-none-any.whl\n",
      "Requirement already satisfied: tblib>=1.6.0 in /home/abraxas/venv/HACKATHON/lib/python3.8/site-packages (from distributed>=2.0; extra == \"complete\"->dask[complete]) (1.7.0)\n",
      "Requirement already satisfied: click>=6.6 in /home/abraxas/venv/HACKATHON/lib/python3.8/site-packages (from distributed>=2.0; extra == \"complete\"->dask[complete]) (7.1.2)\n",
      "Requirement already satisfied: zict>=0.1.3 in /home/abraxas/venv/HACKATHON/lib/python3.8/site-packages (from distributed>=2.0; extra == \"complete\"->dask[complete]) (2.0.0)\n",
      "Requirement already satisfied: setuptools in /home/abraxas/venv/HACKATHON/lib/python3.8/site-packages (from distributed>=2.0; extra == \"complete\"->dask[complete]) (50.3.1)\n",
      "Requirement already satisfied: psutil>=5.0 in /home/abraxas/venv/HACKATHON/lib/python3.8/site-packages (from distributed>=2.0; extra == \"complete\"->dask[complete]) (5.7.2)\n",
      "Requirement already satisfied: sortedcontainers!=2.0.0,!=2.0.1 in /home/abraxas/venv/HACKATHON/lib/python3.8/site-packages (from distributed>=2.0; extra == \"complete\"->dask[complete]) (2.2.2)\n",
      "Requirement already satisfied: tornado>=6.0.3; python_version >= \"3.8\" in /home/abraxas/venv/HACKATHON/lib/python3.8/site-packages (from distributed>=2.0; extra == \"complete\"->dask[complete]) (6.0.4)\n",
      "Requirement already satisfied: msgpack>=0.6.0 in /home/abraxas/venv/HACKATHON/lib/python3.8/site-packages (from distributed>=2.0; extra == \"complete\"->dask[complete]) (1.0.0)\n",
      "Requirement already satisfied: python-dateutil>=2.7.3 in /home/abraxas/venv/HACKATHON/lib/python3.8/site-packages (from pandas>=0.23.0; extra == \"complete\"->dask[complete]) (2.8.1)\n",
      "Requirement already satisfied: pytz>=2017.2 in /home/abraxas/venv/HACKATHON/lib/python3.8/site-packages (from pandas>=0.23.0; extra == \"complete\"->dask[complete]) (2020.1)\n",
      "Requirement already satisfied: Jinja2>=2.7 in /home/abraxas/venv/HACKATHON/lib/python3.8/site-packages (from bokeh!=2.0.0,>=1.0.0; extra == \"complete\"->dask[complete]) (2.11.2)\n",
      "Collecting pillow>=7.1.0\n",
      "  Using cached Pillow-8.0.0-cp38-cp38-manylinux1_x86_64.whl (2.2 MB)\n",
      "Requirement already satisfied: packaging>=16.8 in /home/abraxas/venv/HACKATHON/lib/python3.8/site-packages (from bokeh!=2.0.0,>=1.0.0; extra == \"complete\"->dask[complete]) (20.4)\n",
      "Collecting typing-extensions>=3.7.4\n",
      "  Using cached typing_extensions-3.7.4.3-py3-none-any.whl (22 kB)\n",
      "Requirement already satisfied: heapdict in /home/abraxas/venv/HACKATHON/lib/python3.8/site-packages (from zict>=0.1.3->distributed>=2.0; extra == \"complete\"->dask[complete]) (1.0.1)\n",
      "Requirement already satisfied: six>=1.5 in /home/abraxas/venv/HACKATHON/lib/python3.8/site-packages (from python-dateutil>=2.7.3->pandas>=0.23.0; extra == \"complete\"->dask[complete]) (1.15.0)\n",
      "Requirement already satisfied: MarkupSafe>=0.23 in /home/abraxas/venv/HACKATHON/lib/python3.8/site-packages (from Jinja2>=2.7->bokeh!=2.0.0,>=1.0.0; extra == \"complete\"->dask[complete]) (1.1.1)\n",
      "Requirement already satisfied: pyparsing>=2.0.2 in /home/abraxas/venv/HACKATHON/lib/python3.8/site-packages (from packaging>=16.8->bokeh!=2.0.0,>=1.0.0; extra == \"complete\"->dask[complete]) (2.4.7)\n",
      "Installing collected packages: fsspec, locket, partd, pillow, typing-extensions, bokeh\n",
      "Successfully installed bokeh-2.2.2 fsspec-0.8.4 locket-0.2.0 partd-1.1.0 pillow-8.0.0 typing-extensions-3.7.4.3\n"
     ]
    }
   ],
   "source": [
    "!python -m pip install \"dask[complete]\""
   ]
  },
  {
   "cell_type": "code",
   "execution_count": 8,
   "metadata": {},
   "outputs": [],
   "source": [
    "import json"
   ]
  },
  {
   "cell_type": "code",
   "execution_count": 9,
   "metadata": {},
   "outputs": [
    {
     "output_type": "error",
     "ename": "AttributeError",
     "evalue": "'builtin_function_or_method' object has no attribute 'file'",
     "traceback": [
      "\u001b[0;31m---------------------------------------------------------------------------\u001b[0m",
      "\u001b[0;31mAttributeError\u001b[0m                            Traceback (most recent call last)",
      "\u001b[0;32m<ipython-input-9-1e48138335ac>\u001b[0m in \u001b[0;36m<module>\u001b[0;34m\u001b[0m\n\u001b[0;32m----> 1\u001b[0;31m \u001b[0ma\u001b[0m \u001b[0;34m=\u001b[0m \u001b[0mopen\u001b[0m\u001b[0;34m.\u001b[0m\u001b[0mfile\u001b[0m\u001b[0;34m(\u001b[0m\u001b[0;34m\"StreamingTranscriptResults.json\"\u001b[0m\u001b[0;34m)\u001b[0m\u001b[0;34m\u001b[0m\u001b[0;34m\u001b[0m\u001b[0m\n\u001b[0m",
      "\u001b[0;31mAttributeError\u001b[0m: 'builtin_function_or_method' object has no attribute 'file'"
     ]
    }
   ],
   "source": [
    "(\"StreamingTranscriptResults.json\")"
   ]
  },
  {
   "cell_type": "code",
   "execution_count": 10,
   "metadata": {},
   "outputs": [],
   "source": [
    "with open('StreamingTranscriptResults.json') as json_file:\n",
    "    data = json.load(json_file)\n"
   ]
  },
  {
   "cell_type": "code",
   "execution_count": null,
   "metadata": {},
   "outputs": [],
   "source": []
  },
  {
   "cell_type": "code",
   "execution_count": 16,
   "metadata": {},
   "outputs": [
    {
     "output_type": "execute_result",
     "data": {
      "text/plain": [
       "140"
      ]
     },
     "metadata": {},
     "execution_count": 16
    }
   ],
   "source": [
    "len(data)"
   ]
  },
  {
   "cell_type": "code",
   "execution_count": 38,
   "metadata": {},
   "outputs": [
    {
     "output_type": "execute_result",
     "data": {
      "text/plain": [
       "'Entonces espero que me puedan ayudar.'"
      ]
     },
     "metadata": {},
     "execution_count": 38
    }
   ],
   "source": [
    "data[135][\"Transcript\"][\"Results\"][0][\"Alternatives\"][0][\"Transcript\"]"
   ]
  },
  {
   "cell_type": "code",
   "execution_count": 42,
   "metadata": {},
   "outputs": [
    {
     "output_type": "execute_result",
     "data": {
      "text/plain": [
       "140"
      ]
     },
     "metadata": {},
     "execution_count": 42
    }
   ],
   "source": [
    "len(data)"
   ]
  },
  {
   "cell_type": "code",
   "execution_count": 48,
   "metadata": {},
   "outputs": [
    {
     "output_type": "execute_result",
     "data": {
      "text/plain": [
       "{'Transcript': {'Results': [{'Alternatives': [{'Items': [{'Content': 'Hola',\n",
       "        'EndTime': 7.97,\n",
       "        'StartTime': 7.78,\n",
       "        'Type': 'pronunciation',\n",
       "        'VocabularyFilterMatch': False},\n",
       "       {'Content': ',',\n",
       "        'EndTime': 7.97,\n",
       "        'StartTime': 7.97,\n",
       "        'Type': 'punctuation',\n",
       "        'VocabularyFilterMatch': False},\n",
       "       {'Content': 'buenas',\n",
       "        'EndTime': 8.36,\n",
       "        'StartTime': 7.98,\n",
       "        'Type': 'pronunciation',\n",
       "        'VocabularyFilterMatch': False},\n",
       "       {'Content': 'tar',\n",
       "        'EndTime': 8.55,\n",
       "        'StartTime': 8.37,\n",
       "        'Type': 'pronunciation',\n",
       "        'VocabularyFilterMatch': False},\n",
       "       {'Content': '.',\n",
       "        'EndTime': 8.55,\n",
       "        'StartTime': 8.55,\n",
       "        'Type': 'punctuation',\n",
       "        'VocabularyFilterMatch': False}],\n",
       "      'Transcript': 'Hola, buenas tar.'}],\n",
       "    'EndTime': 8.59,\n",
       "    'IsPartial': True,\n",
       "    'ResultId': 'cb06fb0b-caff-4476-8efb-7ec8d6a7131d',\n",
       "    'StartTime': 7.78}]}}"
      ]
     },
     "metadata": {},
     "execution_count": 48
    }
   ],
   "source": [
    "data[16]"
   ]
  },
  {
   "cell_type": "code",
   "execution_count": 39,
   "metadata": {
    "tags": []
   },
   "outputs": [
    {
     "output_type": "stream",
     "name": "stdout",
     "text": [
      "list index out of range\n1\nlist index out of range\n2\nlist index out of range\n3\nlist index out of range\n4\nlist index out of range\n5\nlist index out of range\n6\nlist index out of range\n7\nlist index out of range\n8\nlist index out of range\n9\nlist index out of range\n10\nlist index out of range\n11\nLa.\n12\nHola.\n13\nHola. Bueno,\n14\nHola, buenas\n15\nlist index out of range\n16\nHola, buenas tar.\n17\nHola. Buenas tardes.\n18\nHola. Buenas tardes. Habla\n19\nlist index out of range\n20\nHola. Buenas tardes. Hablar\n21\nHola. Buenas tardes. Hablar de\n22\nlist index out of range\n23\nHola. Buenas tardes. Hablar bien.\n24\nHola. Buenas tardes. Hablar Jennifer.\n25\nHola. Buenas tardes. Hablar bien inferior.\n26\nHola. Buenas tardes. Habla bien el fraude.\n27\nlist index out of range\n28\nHola. Buenas tardes. Hablar Jennifer Guillermo.\n29\nHola. Buenas tardes. Hablar bien enfermar.\n30\nHola. Buenas tardes. Hablar bien. Javier MartÃ­.\n31\nHola. Buenas tardes. Hablar bien. Javier MartÃ­n.\n32\nHola. Buenas tardes. Hablar bien. Javier MartÃ­nez.\n33\nHola. Buenas tardes. Hablar bien. Javier MartÃ­nez de\n34\nHola. Buenas tardes. Hablar bien. Javier MartÃ­nez va a\n35\nHola. Buenas tardes. Hablar bien. Javier MartÃ­nez Valle.\n36\nHola. Buenas tardes. Hablar bien. Javier MartÃ­nez BÃ¡ez.\n37\nHola. Buenas tardes. Hablar bien. Javier, MartÃ­nez, BÃ¡ez y\n38\nHola. Buenas tardes. Hablar bien. Javier MartÃ­nez BÃ¡ez y que\n39\nHola. Buenas tardes. Hablar bien. Javier, MartÃ­nez BÃ¡ez y quiero\n40\nHola. Buenas tardes. Hablar bien. Javier, MartÃ­nez, BÃ¡ez y quiero y\n41\nHola. Buenas tardes. Hablar bien. Javier, MartÃ­nez, BÃ¡ez y quiero re-.\n42\nHola. Buenas tardes. Hablar bien. Javier, MartÃ­nez BÃ¡ez y quiero repo.\n43\nlist index out of range\n44\nHola. Buenas tardes. Hablar bien. Javier, MartÃ­nez, BÃ¡ez y quiero repor.\n45\nHola. Buenas tardes. Hablar bien. Javier, MartÃ­nez, BÃ¡ez y quiero reporta.\n46\nHola. Buenas tardes. Hablar bien. Javier MartÃ­nez BÃ¡ez y quiero reportar.\n47\nHola. Buenas tardes. Hablar bien. Javier MartÃ­nez BÃ¡ez y quiero reportar un\n48\nlist index out of range\n49\nHola. Buenas tardes. Hablar bien. Javier MartÃ­nez BÃ¡ez y quiero reportar un blog.\n50\nHola. Buenas tardes. Hablar bien. Javier MartÃ­nez BÃ¡ez y quiero reportar un bloque.\n51\nHola. Buenas tardes. Hablar bien. Javier MartÃ­nez BÃ¡ez y quiero reportar un bloqueo.\n52\nHola. Buenas tardes. Hablar bien. Javier MartÃ­nez BÃ¡ez y quiero reportar un bloqueo de\n53\nlist index out of range\n54\nHola. Buenas tardes. Hablar bien. Javier MartÃ­nez BÃ¡ez y quiero reportar un bloqueo de mi\n55\nHola. Buenas tardes. Hablar bien. Javier MartÃ­nez BÃ¡ez y quiero reportar un bloqueo de metal.\n56\nHola. Buenas tardes. Hablar bien. Javier MartÃ­nez BÃ¡ez y quiero reportar un bloqueo de metal y\n57\nHola. Buenas tardes. Hablar bien. Javier MartÃ­nez BÃ¡ez y quiero reportar un bloqueo de mi tarjeta.\n58\nHola. Buenas tardes. Hablar bien. Javier MartÃ­nez BÃ¡ez y quiero reportar un bloqueo de mi tarjeta de\n59\nHola. Buenas tardes. Hablar bien. Javier MartÃ­nez BÃ¡ez y quiero reportar un bloqueo de mi tarjeta de creer.\n60\nHola. Buenas tardes. Hablar bien. Javier MartÃ­nez BÃ¡ez y quiero reportar un bloqueo de mi tarjeta de crÃ©dito.\n61\nHola. Buenas tardes. Hablar bien. Javier MartÃ­nez BÃ¡ez y quiero reportar un bloqueo de mi tarjeta de crÃ©dito.\n62\nlist index out of range\n63\nlist index out of range\n64\nlist index out of range\n65\nDe\n66\nlist index out of range\n67\nDe de\n68\nDe libre\n69\nDe libreto.\n70\nDe de Breton.\n71\nlist index out of range\n72\nDe de Breton al\n73\nDe de Breton hace\n74\nDe de Breton a CC.\n75\nDe de Breton acecino.\n76\nDe de Breton hace cinco\n77\nlist index out of range\n78\nDe de Breton hace cinco dÃ­as.\n79\nDe de Breton. Hace cinco dÃ­as que\n80\nlist index out of range\n81\nDe de Breton. Hace cinco dÃ­as que no\n82\nDe de Breton. Hace cinco dÃ­as que no es\n83\nDe de Breton. Hace cinco dÃ­as que no he por\n84\nDe de Breton. Hace cinco dÃ­as que no he podido.\n85\nlist index out of range\n86\nDe de Breton. Hace cinco dÃ­as que no he podido hacerlo.\n87\nDe de Breton. Hace cinco dÃ­as que no he podido hacer lo que\n88\nDe de Breton. Hace cinco dÃ­as que no he podido desbloquear.\n89\nDe de Breton. Hace cinco dÃ­as que no he podido desbloquear la\n90\nDe de Breton. Hace cinco dÃ­as que no he podido desbloquear la en\n91\nDe de Breton. Hace cinco dÃ­as que no he podido desbloquear la entre\n92\nDe de Breton. Hace cinco dÃ­as que no he podido desbloquear la entonces.\n93\nlist index out of range\n94\nDe de Breton. Hace cinco dÃ­as que no he podido desbloquear la entonces se\n95\nDe de Breton. Hace cinco dÃ­as que no he podido desbloquear la entonces sequia.\n96\nDe de Breton. Hace cinco dÃ­as que no he podido desbloquear la entonces te quiero.\n97\nlist index out of range\n98\nDe de Breton. Hace cinco dÃ­as que no he podido desbloquear la entonces te quiero un\n99\nDe de Breton. Hace cinco dÃ­as que no he podido desbloquear la entonces te quiero un CA\n100\nDe de Breton. Hace cinco dÃ­as que no he podido desbloquear la entonces te quiero un Camp\n101\nDe de Breton. Hace cinco dÃ­as que no he podido desbloquear la entonces te quiero un cambio.\n102\nlist index out of range\n103\nDe de Breton. Hace cinco dÃ­as que no he podido desbloquear la entonces te quiero un cambio un dÃ­a.\n104\nDe de Breton. Hace cinco dÃ­as que no he podido desbloquear la entonces te quiero un cambio en dÃ­as.\n105\nDe de Breton. Hace cinco dÃ­as que no he podido desbloquear la entonces te quiero un cambio y has\n106\nDe de Breton. Hace cinco dÃ­as que no he podido desbloquear la entonces te quiero un cambio a dÃ­a. Son\n107\nDe de Breton. Hace cinco dÃ­as que no he podido desbloquear la entonces te quiero un cambio al dÃ­a sobre\n108\nDe de Breton. Hace cinco dÃ­as que no he podido desbloquear la entonces te quiero un cambio un dÃ­a sobre a\n109\nDe de Breton. Hace cinco dÃ­as que no he podido desbloquear la entonces te quiero un cambio. Un dÃ­a sobre a quÃ©\n110\nlist index out of range\n111\nDe de Breton. Hace cinco dÃ­as que no he podido desbloquear la entonces te quiero un cambio Un dÃ­a sobre a quÃ© se\n112\nDe de Breton. Hace cinco dÃ­as que no he podido desbloquear la entonces te quiero un cambio. Un dÃ­a sobre a que su\n113\nDe de Breton. Hace cinco dÃ­as que no he podido desbloquear la entonces te quiero un cambio Un dÃ­a sobre a que su con\n114\nDe de Breton. Hace cinco dÃ­as que no he podido desbloquear la entonces te quiero un cambio Un dÃ­a sobre a quÃ© sucursal\n115\nDe de Breton. Hace cinco dÃ­as que no he podido desbloquear la entonces te quiero un cambio Un dÃ­a sobre a quÃ© sucursal te\n116\nDe de Breton. Hace cinco dÃ­as que no he podido desbloquear la entonces te quiero un cambio Un dÃ­a sobre a quÃ© sucursal. Tengo\n117\nDe de Breton. Hace cinco dÃ­as que no he podido desbloquear la entonces te quiero un cambio Un dÃ­a sobre a quÃ© sucursal. Tengo que\n118\nDe de Breton. Hace cinco dÃ­as que no he podido desbloquear la entonces te quiero un cambio Un dÃ­a sobre a quÃ© sucursal. Tengo que aquÃ­.\n119\nDe de Breton. Hace cinco dÃ­as que no he podido desbloquear la entonces te quiero un cambio Un dÃ­a sobre a quÃ© sucursal tengo que acud.\n120\nDe de Breton. Hace cinco dÃ­as que no he podido desbloquear la entonces te quiero un cambio Un dÃ­a sobre a quÃ© sucursal tengo que acudir.\n121\nDe de Breton. Hace cinco dÃ­as que no he podido desbloquear la entonces te quiero un cambio Un dÃ­a sobre a quÃ© sucursal tengo que acudir.\n122\nlist index out of range\n123\nlist index out of range\n124\nlist index out of range\n125\nEn.\n126\nEntonces.\n127\nEntonces es\n128\nlist index out of range\n129\nEntonces espero\n130\nEntonces espero que\n131\nEntonces espero que me\n132\nEntonces espero que me pues\n133\nEntonces espero que me puedan.\n134\nEntonces espero que me puedan allÃ­.\n135\nEntonces espero que me puedan ayudar.\n136\nEntonces espero que me puedan ayudar con\n137\nEntonces espero que me puedan ayudar con el\n138\nEntonces espero que me puedan ayudar con eso.\n139\nEntonces espero que me puedan ayudar con eso.\n140\n"
     ]
    }
   ],
   "source": [
    "i= 0\n",
    "for x in data:\n",
    "    try:\n",
    "        print(x[\"Transcript\"][\"Results\"][0][\"Alternatives\"][0][\"Transcript\"])\n",
    "    except Exception as e:\n",
    "        print(e)\n",
    "    i+=1\n",
    "    print(i)"
   ]
  },
  {
   "cell_type": "code",
   "execution_count": 54,
   "metadata": {},
   "outputs": [
    {
     "output_type": "stream",
     "name": "stdout",
     "text": [
      "Collecting nltk\n",
      "  Downloading nltk-3.5.zip (1.4 MB)\n",
      "\u001b[K     |████████████████████████████████| 1.4 MB 1.0 MB/s \n",
      "\u001b[?25hRequirement already satisfied: click in /home/abraxas/venv/HACKATHON/lib/python3.8/site-packages (from nltk) (7.1.2)\n",
      "Collecting joblib\n",
      "  Downloading joblib-0.17.0-py3-none-any.whl (301 kB)\n",
      "\u001b[K     |████████████████████████████████| 301 kB 76.1 MB/s \n",
      "\u001b[?25hCollecting regex\n",
      "  Downloading regex-2020.10.15-cp38-cp38-manylinux2010_x86_64.whl (675 kB)\n",
      "\u001b[K     |████████████████████████████████| 675 kB 39.1 MB/s \n",
      "\u001b[?25hCollecting tqdm\n",
      "  Downloading tqdm-4.50.2-py2.py3-none-any.whl (70 kB)\n",
      "\u001b[K     |████████████████████████████████| 70 kB 2.4 MB/s \n",
      "\u001b[?25hBuilding wheels for collected packages: nltk\n",
      "  Building wheel for nltk (setup.py) ... \u001b[?25ldone\n",
      "\u001b[?25h  Created wheel for nltk: filename=nltk-3.5-py3-none-any.whl size=1434676 sha256=b39d07187c8e1d24c91fae4c4da40aa185d29233673b21169949db4df3631192\n",
      "  Stored in directory: /home/abraxas/.cache/pip/wheels/ff/d5/7b/f1fb4e1e1603b2f01c2424dd60fbcc50c12ef918bafc44b155\n",
      "Successfully built nltk\n",
      "Installing collected packages: joblib, regex, tqdm, nltk\n",
      "Successfully installed joblib-0.17.0 nltk-3.5 regex-2020.10.15 tqdm-4.50.2\n"
     ]
    }
   ],
   "source": [
    "!pip3 install nltk"
   ]
  },
  {
   "cell_type": "code",
   "execution_count": 128,
   "metadata": {},
   "outputs": [
    {
     "output_type": "stream",
     "name": "stderr",
     "text": [
      "[nltk_data] Downloading package stopwords to\n[nltk_data]     /home/abraxas/nltk_data...\n[nltk_data]   Package stopwords is already up-to-date!\n"
     ]
    }
   ],
   "source": [
    "import nltk\n",
    "nltk.download('stopwords')\n",
    "stopwords = nltk.corpus.stopwords.words('spanish')"
   ]
  },
  {
   "cell_type": "code",
   "execution_count": 140,
   "metadata": {},
   "outputs": [],
   "source": [
    "texto = \"\"\"Hola. Buenas tardes. Hablar bien. Javier MartÃ­nez BÃ¡ez y quiero reportar un bloqueo de mi tarjeta de crÃ©dito.\n",
    "De de Breton. Hace cinco dÃ­as que no he podido desbloquear la entonces te quiero un cambio Un dÃ­a sobre a quÃ© sucursal tengo que acudir.\n",
    "Entonces espero que me puedan ayudar con eso\"\"\""
   ]
  },
  {
   "cell_type": "code",
   "execution_count": 147,
   "metadata": {},
   "outputs": [
    {
     "output_type": "stream",
     "name": "stdout",
     "text": [
      "Collecting unidecode\n",
      "  Downloading Unidecode-1.1.1-py2.py3-none-any.whl (238 kB)\n",
      "\u001b[K     |████████████████████████████████| 238 kB 623 kB/s \n",
      "\u001b[?25hInstalling collected packages: unidecode\n",
      "Successfully installed unidecode-1.1.1\n"
     ]
    }
   ],
   "source": [
    "!pip3 install unidecode"
   ]
  },
  {
   "cell_type": "code",
   "execution_count": 148,
   "metadata": {},
   "outputs": [],
   "source": [
    "import unidecode\n",
    "unaccented_string = unidecode.unidecode(texto)"
   ]
  },
  {
   "cell_type": "code",
   "execution_count": 149,
   "metadata": {},
   "outputs": [
    {
     "output_type": "execute_result",
     "data": {
      "text/plain": [
       "'Hola. Buenas tardes. Hablar bien. Javier MartAnez BA!ez y quiero reportar un bloqueo de mi tarjeta de crA(c)dito.\\nDe de Breton. Hace cinco dAas que no he podido desbloquear la entonces te quiero un cambio Un dAa sobre a quA(c) sucursal tengo que acudir.\\nEntonces espero que me puedan ayudar con eso'"
      ]
     },
     "metadata": {},
     "execution_count": 149
    }
   ],
   "source": [
    "unaccented_string"
   ]
  },
  {
   "cell_type": "code",
   "execution_count": 132,
   "metadata": {},
   "outputs": [],
   "source": [
    "texto     = texto.lower()"
   ]
  },
  {
   "cell_type": "code",
   "execution_count": 133,
   "metadata": {},
   "outputs": [],
   "source": [
    "lst_texto = texto.split('.')"
   ]
  },
  {
   "cell_type": "code",
   "execution_count": 144,
   "metadata": {},
   "outputs": [],
   "source": [
    "oracion   = lst_texto[3]"
   ]
  },
  {
   "cell_type": "code",
   "execution_count": 145,
   "metadata": {},
   "outputs": [
    {
     "output_type": "execute_result",
     "data": {
      "text/plain": [
       "' javier martã\\xadnez bã¡ez y quiero reportar un bloqueo de mi tarjeta de crã©dito'"
      ]
     },
     "metadata": {},
     "execution_count": 145
    }
   ],
   "source": [
    "oracion."
   ]
  },
  {
   "cell_type": "code",
   "execution_count": 138,
   "metadata": {},
   "outputs": [],
   "source": [
    "from unicodedata import normalize\n",
    "\n",
    "oracion = re.sub(\n",
    "        r\"([^n\\u0300-\\u036f]|n(?!\\u0303(?![\\u0300-\\u036f])))[\\u0300-\\u036f]+\", r\"\\1\", \n",
    "        normalize( \"NFD\",lst_texto[3]), 0, re.I\n",
    "    )"
   ]
  },
  {
   "cell_type": "code",
   "execution_count": 139,
   "metadata": {},
   "outputs": [
    {
     "output_type": "execute_result",
     "data": {
      "text/plain": [
       "' javier marta\\xadnez ba¡ez y quiero reportar un bloqueo de mi tarjeta de cra©dito'"
      ]
     },
     "metadata": {},
     "execution_count": 139
    }
   ],
   "source": [
    "oracion"
   ]
  },
  {
   "cell_type": "code",
   "execution_count": 135,
   "metadata": {},
   "outputs": [],
   "source": [
    "oracion = ' '.join([x for x in oracion.split(' ') if x not in stopwords])"
   ]
  },
  {
   "cell_type": "code",
   "execution_count": 136,
   "metadata": {},
   "outputs": [
    {
     "output_type": "execute_result",
     "data": {
      "text/plain": [
       "[' javier mart nez b ez quiero reportar bloqueo tarjeta cr dito']"
      ]
     },
     "metadata": {},
     "execution_count": 136
    }
   ],
   "source": [
    "[oracion ]"
   ]
  },
  {
   "cell_type": "code",
   "execution_count": null,
   "metadata": {},
   "outputs": [],
   "source": [
    "texto      = [x for x in texto ]"
   ]
  },
  {
   "cell_type": "code",
   "execution_count": 106,
   "metadata": {},
   "outputs": [],
   "source": [
    "import re"
   ]
  },
  {
   "cell_type": "code",
   "execution_count": 102,
   "metadata": {},
   "outputs": [],
   "source": []
  },
  {
   "cell_type": "code",
   "execution_count": 109,
   "metadata": {},
   "outputs": [],
   "source": [
    "ls_texto_aux = texto_aux.split(' ')"
   ]
  },
  {
   "cell_type": "code",
   "execution_count": 103,
   "metadata": {},
   "outputs": [
    {
     "output_type": "execute_result",
     "data": {
      "text/plain": [
       "['hello',\n",
       " 'good',\n",
       " 'afternoon',\n",
       " 'talk',\n",
       " 'well',\n",
       " 'javier',\n",
       " 'martinez',\n",
       " 'b',\n",
       " 'ez',\n",
       " 'and',\n",
       " 'i',\n",
       " 'want',\n",
       " 'to',\n",
       " 'report',\n",
       " 'a',\n",
       " 'blocking',\n",
       " 'of',\n",
       " 'my',\n",
       " 'credit',\n",
       " 'card',\n",
       " 'from',\n",
       " 'breton',\n",
       " 'five',\n",
       " 'days',\n",
       " 'ago',\n",
       " 'i',\n",
       " 'haven',\n",
       " 't',\n",
       " 'been',\n",
       " 'able',\n",
       " 'to',\n",
       " 'unlock',\n",
       " 'the',\n",
       " 'then',\n",
       " 'i',\n",
       " 'want',\n",
       " 'you',\n",
       " 'a',\n",
       " 'change',\n",
       " 'one',\n",
       " 'day',\n",
       " 'about',\n",
       " 'which',\n",
       " 'branch',\n",
       " 'i',\n",
       " 'have',\n",
       " 'to',\n",
       " 'go',\n",
       " 'to',\n",
       " 'then',\n",
       " 'i',\n",
       " 'hope',\n",
       " 'you',\n",
       " 'can',\n",
       " 'help',\n",
       " 'me',\n",
       " 'with',\n",
       " 'that']"
      ]
     },
     "metadata": {},
     "execution_count": 103
    }
   ],
   "source": [
    "ls_texto_aux"
   ]
  },
  {
   "cell_type": "code",
   "execution_count": 91,
   "metadata": {},
   "outputs": [
    {
     "output_type": "execute_result",
     "data": {
      "text/plain": [
       "'hellogoodafternoontalkwelljaviermartinezbáezandiwanttoreportablockingofmycreditcardfrombretonfivedaysagoihaventbeenabletounlockthetheniwantyouachangeonedayaboutwhichbranchihavetogotothenihopeyoucanhelpmewiththat'"
      ]
     },
     "metadata": {},
     "execution_count": 91
    }
   ],
   "source": [
    "''.join(e for e in texto if e.isalnum())"
   ]
  },
  {
   "cell_type": "code",
   "execution_count": 84,
   "metadata": {},
   "outputs": [
    {
     "output_type": "execute_result",
     "data": {
      "text/plain": [
       "\"hello. good afternoon. talk well. javier martinez bez and i want to report a blocking of my credit card.\\nfrom breton. five days ago i haven't been able to unlock the then i want you a change one day about which branch i have to go to.\\nthen i hope you can help me with that\""
      ]
     },
     "metadata": {},
     "execution_count": 84
    }
   ],
   "source": [
    "texto.encode(\"ascii\",\"ignore\").decode()"
   ]
  },
  {
   "cell_type": "code",
   "execution_count": 82,
   "metadata": {},
   "outputs": [
    {
     "output_type": "execute_result",
     "data": {
      "text/plain": [
       "\"hello. good afternoon. talk well. javier martinez báez and i want to report a blocking of my credit card.\\nfrom breton. five days ago i haven't been able to unlock the then i want you a change one day about which branch i have to go to.\\nthen i hope you can help me with that\""
      ]
     },
     "metadata": {},
     "execution_count": 82
    }
   ],
   "source": [
    "texto"
   ]
  },
  {
   "cell_type": "code",
   "execution_count": null,
   "metadata": {},
   "outputs": [],
   "source": [
    "#Agregar stop words saludos hola,buenas tardes,\n",
    "#Etiquetar por producto\n",
    "#Etiquetar por motivo\n",
    "#Tipo de movimiento\n",
    "#Dónde\n",
    "#Resolución\n",
    "#Detalle"
   ]
  }
 ]
}